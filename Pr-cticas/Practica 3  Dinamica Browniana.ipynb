{
 "cells": [
  {
   "cell_type": "markdown",
   "metadata": {},
   "source": [
    "# Dinamica Browniana\n",
    "\n",
    "Un coloide es un sistema formado por 2 o más fases. Típicamente una fase sólida y una líquida. La fase líquida se encuentra formada por partículas de unas pocas micras. En este caso, cada partícula sigue un movimiento browniano, pues la partícula es sufcientemente pequeña como para ver afectado su movimiento por la colisión de las moléculas del líquido, pero no tan pequeña que se pueda considerar parte del fluido. \n",
    "\n",
    "En esta práctica desarrollarás un método para poder estudiar sistemas coloidales. La idea fundamental es resolver la ecuación de Langevin con el método de Euler y después aplicar esto a un conjunto de partículas que puede interactuar entre ellas. \n",
    "\n",
    "\n",
    "## Paso 1: Movimiento Browniano\n",
    "\n",
    "En 1827 Robert Brown, un biólogo inglés, observó en el microscopio que las partículas de polen en agua se movían de forma \"extraña\", siguiendo trayectorias asarosas. Sus observaciones sirvieron como prueba de que la materia está constituida por moléculas que se mueven ergódicamente en todas direcciones. En 1905, Einstein fue capaz de hacer un modelo estadístico el cual describía adecuadamente el movimiento Browniano. Con él pudo mostrar que, las partículas Brownianas siguen un comportamiento difusivo. \n",
    "\n",
    "Hoy en día esto se usa en muchas áreas de la física, como la termodinámica, la dinámica de fluidos, biofísica, y muchos otros. \n",
    "\n",
    "Como un primer paso, tendrás que ser capaz de modelar una caminata aleatoria (o movimiento browniano). \n",
    "\n",
    "[1] Dibuja una caminata de borracho en 2D. Para esto, genera pasos de tamaño fijo, en una dirección $\\theta$ aleatoria. \n",
    "\n",
    "[2] Calcula el desplazamiento cuadrático medio de estas caminatas aleatorias. Es decir, el promedio de $\\langle (x(t)-x(0))^2 \\rangle$ como función del tiempo ($\\langle \\cdot \\rangle$ significa el promedio sobre muchas caminatas aleatorias). \n",
    "\n",
    "[3] Para tiempos grandes, el desplazamiento cuadrático medio va como $D t$, donde $D$ es el coeficiente de difusión. Calcula este coeficiente. \n",
    "\n",
    "[4] Generaliza esto para $N$ dimensiones."
   ]
  },
  {
   "cell_type": "markdown",
   "metadata": {},
   "source": [
    "## Paso 2: Movimiento Browniano y la ecuación de Langevin\n",
    "\n",
    "Hacer una caminata aleatroia es relativamente sencillo, pero ¿cómo se vería esa misma caminata si estuviramos bajo la acción de algún potencial? Tendría que haber una probabilidad mayor de moverse en determinada dirección. Calcular esa probabilidad como función del potencial no parece tan fácil. \n",
    "\n",
    "La forma de resolver este problema, es escribiendo la segunda ley de Newton para nuestra partícula browniana de masa $m$. Una vez escrita la segunda ley de Newton, se utiliza el teorema de equipartición que dice que por cada grado de libertad de cada partícula, la energía cinética está dada por $\\frac{1}{2} k_B T$ para reducir términos ($T$ es la temperatura y $k_b$ la constante de Boltzmann). Entonces, las fuerza $m \\ddot{X}$ que actúan sobre una partícula grande de masa $m$ serán: \n",
    "1) la fuerza debido al potencial, es decir $- \\nabla U(X)$.\n",
    "2) la fuerza debido a la fricción de la partícula en el fluido, es decir  $- \\gamma \\dot{X}$ y finalmente,\n",
    "3) una contribución estocástica que depende de la fricción y la energía cinética de las partículas, es decir,  $ \\sqrt{2 \\gamma k_B T} R(t)$, donde $R(t)$ es una variable aleatoria de tipo gaussiana. \n",
    "\n",
    "Es decir: \n",
    "\n",
    "$m\\ddot{X} = - \\nabla U(X) - \\gamma \\dot{X} + \\sqrt{2 \\gamma k_B T} R(t)$\n",
    "\n",
    "Esta ecuación es complicada y en general, lo que nos interesa simular es el caso donde con respecto a nuestro sistema completo, $m$ es muy pequeña. En el caso donde $m$ tiende a 0, esta equación se reduce a $0 = - \\nabla U(X) - \\gamma \\dot{X} + \\sqrt{2 \\gamma k_B T} R(t)$, que es la equación de Lagevin, base para dinámica Browniana. \n",
    "\n",
    "La dificultad de resolver esta clase de ecuaciones consiste en la $R(t)$, pues no es una variable aleatoria homogenea, sino gaussiana. \n",
    "\n",
    "[1] haz una función R(t) que te genere un valor aleatorio entre -Inf e Inf, con una distribución de probabilidad de tipo gaussiano. \n",
    "\n",
    "[2] Para el caso donde U(x) = 0, resuelve la ecuación de dinámica Browniana usando el método de Euler (recuerda que R depende del tiempo. Deberías obtener simplmente una partícula Browniana libre.  \n",
    "\n",
    "[3] Calcula el coeficiente de difusión $D$ del paso anterior. Ahora tu coeficiente de difusión depende de la temperatura y de $\\gamma$. Para $\\gamma$ fijo, ¿Cómo depende de la temperatura? ¿Qué relación hay con la $D$ del paso anterior?\n"
   ]
  },
  {
   "cell_type": "markdown",
   "metadata": {},
   "source": [
    "## Paso 3: Dinámica Browniana. \n",
    "\n",
    "En este punto ya eres casi un experto en movimiento Browniano. Ahora vamos a pasar a implementar potenciales. Para esto tendrás que usar una versión n-dimensional del método de Euler. \n",
    "\n",
    "[1] Haz una función que calcule $\\nabla U(X)$, dada cualquier función $U$ \n",
    "\n",
    "[2] Haz una función que aplique el método de Euler n-dimensional para obtener las soluciones de la ecuación de la dinámica Browniana, dado un potencial $U$, una temperatura $T$ y un coeficiente de fricción $\\gamma$. \n",
    "\n",
    "[3] Haz una simulación (una animación), de una partícula de polen en agua bajo el cámpo gravitatorio de la tierra. En este punto suele haber problemas. A la hora de graficar, observa la escala y asegúrate que está realmente cayendo la partícula de Polen para campos suficientemente grandes (que la caída no sea de $10^{-n}$ con $n \\sim 15$. \n",
    "\n",
    "[4] Haz una simulación de una partícula browniana cargada negativamente, en un potencial de Coulomb de otra partícula (masiva) cargada positivamente. Tendrás problemas si las partículas se acercan demasiado, piensa como resolver ese caso de forma realista. "
   ]
  },
  {
   "cell_type": "markdown",
   "metadata": {},
   "source": [
    "## Paso 4: Dinámica Browniana con muchas partículas. \n",
    "\n",
    "Hasta ahora sólo hemos visto qué pasa cuando tenemos 1 partícula. Pero puede ser que las partículas interactuen entre ellas. ¿Cómo podemos hacer esto? El potenciál U dependerá de las posiciones de las demás partículas. \n",
    "\n",
    "[1] Haz una simulación considerando 10 partículas (posiciones iniciales aleatorias). Las partículas deben tener algún potencial de esfera suave (el que gustes). ¿Qué sucede?\n",
    "\n",
    "[2] Ahora cambia de esfera suave a partículas cargadas, 5 positivas, 5 negativas.\n",
    "\n"
   ]
  },
  {
   "cell_type": "markdown",
   "metadata": {},
   "source": [
    "## Paso 5: Condiciones a la frontera. \n",
    "\n",
    "En algunos casos, si las partículas no están confunadas, simplemente se escaparán del sistema. Una forma de confinar las partículas es poniendo un potencial de amarre para todas, pero eso es poco realista. Una mejor forma de confinar el sistema, es poniendo condiciones a la frontera. Un posible caso, es poner una barrera de potencial \"suave\" (lo pongo entre comillas, porque típicamente se busca que ese potencial se comporte como un potencial duro). Otra opción es considerar al sistema infinito, pero periódico, o lo que es lo mismo, poner condiciones periódicas (tipo pac-man) a la frontera. \n",
    "\n",
    "[1] Haz las mismas simulaciones que en el paso 4, pero con condiciones periódicas a la frontera. ¿Qué sucede ahora? El arreglo final es igual? \n",
    "\n",
    "[2] Repite las simulaciones del paso 4, pero esta vez poniendo barreras de potencial \"suave\" en la frontera, de tal forma quelas partículas estén confinadas. ¿Qué sucede esta vez? \n",
    "\n",
    "[3] Confinamos las partículas coloidales entre 2 planos. Esto nos deja 2 direcciones donde las partículas se pueden mover libremente. En esas direcciones aplicamos condiciones periódicas a la frontera. pon los planos perpendiculares al eje $z$. Utiliza un potencial de esfera suave y potencial gravitatorio. ¿Qué sucede?"
   ]
  },
  {
   "cell_type": "markdown",
   "metadata": {},
   "source": [
    "# Paso 5: Mediciones\n",
    "\n",
    "Ya tenemos nuestras simulaciones, ahora, nos interesa hacer mediciones. Hay muchas posibilidades de medición aquí, porque hay muchas variables que podríamos considerar y muchos modelos complejos que podríamos hacer. Aquí te propondré uno relativamente sencillo. Utilizaremos la geometría del punto 3 del paso 5 y el potencial de esfera suabe de la forma: $U(x_1, x_2) = -C(r- |x_1 -x_2|)/(x_1 -x_2)^2$ con $C$ una constante dada, si $x_1 -x_2 < r$ $r$ el radio de las esferas y $U(x_1,x_2)=0$ si $x_1 -x_2>r$.\n",
    "\n",
    "[1] Mide el $\\langle X^2 (t) \\rangle$ para cada una de las simulaciones. ¿Cómo cambia la difusión (desplazamiento cuadrático medio) como función de $C$ y como función de $r$? ¿Como cambia si se \"apaga\" la gravedad?  \n",
    "\n",
    "[2] Incrementa la densidad del sistema y vuelve a medir $\\langle X^2 (t) \\rangle$. ¿cómo cambia la difusión, como función de la densidad? (Para cambiar la densidad puedes incrementar las partículas o reducir el volumen). \n"
   ]
  }
 ],
 "metadata": {
  "kernelspec": {
   "display_name": "Julia 0.6.1",
   "language": "julia",
   "name": "julia-0.6"
  },
  "language_info": {
   "file_extension": ".jl",
   "mimetype": "application/julia",
   "name": "julia",
   "version": "0.6.1"
  }
 },
 "nbformat": 4,
 "nbformat_minor": 1
}
