{
 "cells": [
  {
   "cell_type": "code",
   "execution_count": null,
   "metadata": {
    "collapsed": true
   },
   "outputs": [],
   "source": []
  },
  {
   "cell_type": "markdown",
   "metadata": {},
   "source": [
    "En esta práctica, haremos el desarrollo de un modelo de plegamiento de polímeros para describir cómo se comporta el hule bajo cambios de temperatura. \n",
    "\n",
    "# Paso 1: Desarrollar el modelo. \n",
    "\n",
    "Pensemos en el siguiente modelo 1D simple del hule. Tenemos una cadena lineal con N eslabones, todos de tamaños iguales. En cada vértice de la cadena, esta se puede doblar, reflejando todo un lado de la cadena con respecto a ese vértice. Así, por ejemplo, si la cadena tien 100 eslavones y se dobla en el vértice entre el eslabón 23 y 24, los primeros 23 eslavones cambiarían su posición. \n",
    "\n",
    "[1] Haz una animación del plegamiento de una cadena de polímeros con 100 eslavones, donde de manera aleatoria se dobla cada eslavón. \n",
    "\n",
    "Ahora supongamos que uno de los extremos del polímer está sujeto, mientras que al otro se le agrega una fuerza $f$. Entonces pensemos en un modelo simple, donde la energía de cada eslavón es $\\pm f \\cdot a$ (es decir, algo así como el trabajo realizado por cada eslavón dada una fuerza), donde $a$ es el tamaño de cada eslavón. El signo de la energía de cada eslavón depende de si el eslavón está apuntando en la misma dirección de la fuerza (en cuyo caso reducimos la energía para favorecer que así sea) o si está apuntando en dirección opuesta. En este caso, el signo de la energía de un eslavón particular depende de cuantos dobleces hay antes de dicho eslavón. Si hay número par, el signo es negativo, si hay numero non, el signo es positivo. \n",
    "\n",
    "[2] Haz una función que dado un conjunto de posiciones de los eslavones, calcule el número de dobleces y la energía de cada eslavón. \n",
    "\n",
    "La energía total del sistema sería simplemente la suma de todas las energías de los eslavones.\n",
    "\n",
    "La longitud total de la cadena de eslavones será simplemente $N a$ donde $N$ es el número de eslavones. Puesto que estamos jalando nuestro polímero de ambos extremos, uno que es el punto fijo y el otro que es donde se aplica la fuerza $f$, entonces podríamos decir que la el tamño efectvo es la distancia entre el primero y el último eslavón. \n",
    "\n",
    "[3] Haz una función que calcule el tamaño efectivo del polímero dada una configuración de eslavones. \n",
    "\n",
    "[4] Haz una función que realice una simulación con el algoritmo de Metrópolis, para $f$ y $kT$ dados. Nota que los dobleces son parecidos a los cambios de espín del modelo de Ising si se hacen 2 dobleces consecutivos, de forma que para hacer bien el algoritmo de Metrópolis, en cada paso tienes que proponer 2 dobleces consecutivos. \n",
    "\n",
    "[5] Haz varias simulaciones (con tantos eslavones como resista tu computadora), fijando la temperatura (más o menos alta) y variando la fuerza. ¿Cómo varía la longitud efectiva promedio con el cambio de $f$? ¿Reconoces alguna ley física al respecto?  ¿Puedes decir algo al respecto sobre la variación de esa ley al variar la temperatura?\n",
    "\n",
    "[6] Para temperaturas bajas, ¿cómo cambia esa ley?  "
   ]
  },
  {
   "cell_type": "markdown",
   "metadata": {},
   "source": [
    "# Parte 2: el caso 3D\n",
    "\n",
    "En esta parte de la práctica, vamos a generalizar el modelo anterior a 3D. Aquí, una forma casi directa, es simplemente permitir que se pliegue la cadena en 6 posibles direcciones. Si un eslavón apunta en la dirección de la fuerza, entonces recibe una energía negativa, si apunta de forma perpendicular, recibe una energía nula y si apunta en dirección contraria, recibe una energía positiva. Otra alternativa, es elegir plegamientos en direcciones arbitrarias, en cuyo caso, se tienen que elegir coordenadas esféricas y que el plegamiento se determine por un par de ángulos aleatorios. En este caso, la energía se obtendría con el coseno del ángulo con respecto al eje sobre el cual se aplica la fuerza, la longitud del eslavón y la fuerza que se esté aplicando. \n",
    "\n",
    "Además, hay que considerar que esta vez, en principio la distancia entre el ultimo eslavón y el eje de aplicación de la fuerza (llamemosle z) en promedio debería ser 0 por simetría, por lo tanto, el tamaño del polímero debería ser el promedio de la proyección de la distancia entre los dos extremos del polímero sobre el eje z y no sólo el promedio de las distancias.  \n",
    "\n",
    "El problema en ambos casos es que ya no existe un algoritmo equivalente al de metrópolis del modelo de Ising, pues 2 plegamientos no implican necesariamente el equivalente a un cambio de espín. \n",
    "\n",
    "[7] Piensa como modificar el algoritmo para hacer primero la generalización de plegamientos discretos (sólo 6 posibles direcciones) y segundo, plegamientos continuos(usando coordenadas esféricas). (Pista, necesitarás hacer 2 plegamientos cada vez. pero tienes que asegurar que en cada plegamiento no pasas por \"estados imposibles\")\n",
    "\n",
    "El paso [7] es quizá el más complejo de todos, no hay una única solución. Sé creativo. Si no logras entender lo de estados imposibles, haz alguna animación sobre la evolución de tu cadena y ve si te parece una evolución físicamente posible. Si te parece, entonces sigue tu propuesta de algoritmo.  \n",
    "\n",
    "[8] Repite los pasos [3] a [6] para los casos 3D, usando tu algoritmo de Metrópolis. ¿Llegas a algo que tenga sentido? \n",
    "\n",
    "Si seguiste bien los pasos, deberías obtener un cambio abrupto en el tamaño efectivo de tu polímero para alguna temperatura que llamaremos \"de transición\". Haz varias pruebas. \n",
    "\n",
    "Para hacer las pruebas te siguiero seguir los siguientes pasos. \n",
    "\n",
    "1. genera una configuración inicial. \n",
    "- Aplica tu algoritmo sobre esta configuración, hasta que se termalice, es decir, hasta que el tamaño promedio del polímero no varie considerablemente (en principio llegará a su máximo). \n",
    "- Aumenta ligeramente la temperatura y vuelve a termalizar el polímero. \n",
    "- Aplica el paso anterior hasta obtener una temperatura a la cual se da un cambio abrupto en el tamaño. \n",
    "- Sigue incrementando la temperatura hasta que veas que llegas a un \"tamaño mínimo\". \n",
    "- Ahora repite lo mismo, pero comenzando con un polímero a temperatura alta y reduciendo su temperatura hasta una temperatura 0. \n",
    "\n",
    "[9] ¿observas histéresis o no? Es decir ¿el tamaño del polímero sigue el mismo camino cuando se calienta que cuando se enfría? \n",
    "\n",
    "[10] ¿Qué sucede si la fuerza es muy grande? "
   ]
  },
  {
   "cell_type": "markdown",
   "metadata": {},
   "source": [
    "# Parte 3: Comparación de modelos. \n",
    "\n",
    "[11] Con los 3 modelos obtén una ecuación de estado del tamaño del polímero como función de la temperatura y la fuerza aplicada para el caso de temperaturas altas y para el caso de temperaturas bajas. \n",
    "\n",
    "Para obtener la ecuación de estado, tendrás que hacer ajustes de funciones, quizá polinomios, quizá funciones trigonométricas, quizá exponenciales (o funciones hiperbólicas). Para hacer los ajustes, te recomiendo usar la paquetería LsqFit de Julia (https://github.com/JuliaNLSolvers/LsqFit.jl) que es parecida a fit de gnuplot (la cual también podrías usar, pero sería fuera de Julia, por lo que no lo recomiendo). Posiblemente tendrás diferentes ecuaciones de estado, para rangos diferentes de temperatura. \n",
    "\n",
    "[12] Compara los 3 modelos. ¿Cuál se ajusta más a lo que esperarías que suceda con un polímero, por ejemplo con el latex de un globo? (puedes hacer experimentos en tu casa con globos) \n",
    "\n",
    "[13] Discute tanto como te sea posible sobre tus resultados y las comparaciones entre modelos. \n",
    "\n"
   ]
  },
  {
   "cell_type": "markdown",
   "metadata": {},
   "source": [
    "\n"
   ]
  }
 ],
 "metadata": {
  "kernelspec": {
   "display_name": "Julia 0.6.0",
   "language": "julia",
   "name": "julia-0.6"
  },
  "language_info": {
   "file_extension": ".jl",
   "mimetype": "application/julia",
   "name": "julia",
   "version": "0.6.0"
  }
 },
 "nbformat": 4,
 "nbformat_minor": 2
}
