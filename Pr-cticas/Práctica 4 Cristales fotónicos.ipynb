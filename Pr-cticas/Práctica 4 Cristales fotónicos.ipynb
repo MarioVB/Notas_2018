{
 "cells": [
  {
   "cell_type": "markdown",
   "metadata": {},
   "source": [
    "Un cristal fotónico no es estrictamente un cristal a escala microscópica, sino un arreglo de materiales dielectricos(generalmente vítreos) acomodados de forma periódica y através de los cuales pasa luz. De la misma forma en la que en los cristales normales hay bandas de conducción que dependen de la energía de los electrones y bandas prohibidas, para las cuales los electrones no pueden conducir, en los cristales fotónicos existen bandas de conducción y prohibidas, lo que resulta en rangos de color que son trasmitidos y otros que son reflejados. \n",
    "\n",
    "Para modelar esta clase de materiales, usualmente se resuelven las ecuaciones de Maxwell, las cuales se pueden escribir en un formato muy similar al de la ecuación de onda de Schödinger, de forma que el formalizmo de la mecánica cuántica se puede aplicar (con reservas, pues en realidad el sistema no es uno cuántico, sino clásico realmente). Sin embargo, en la mayoría de los casos no se pueden resolver de forma analítica estas ecuaciones, por lo que se requiere usar métodos numéricos. \n",
    "\n",
    "En general, resolver las ecuaciones de Maxwell significa resolver un sistema de ecuaciones parciales de segundo orden con condiciones a la frontera más o menos complicadas. Esto excede el nivel de este curso, por lo que se harán varias simplificaciones para este trabajo. \n",
    "\n",
    "En esta práctica, modelarás el flujo de luz en cristales fotónicos 1D Considerando que la luz incide únicamente de forma normal al material (o sea, es realmente la simplificación al caso 1D). También harás un código \"sencillo\" para estudiar el caso 2D, usando una aproximación a la óptica geométrica.  \n"
   ]
  },
  {
   "cell_type": "markdown",
   "metadata": {},
   "source": [
    "# Parte 1:  Ecuación de onda\n",
    "\n",
    "El primer paso para poder simular la luz en la materia, es poder simular la luz en el vacío. Para esto necesitas llegar a la ecuación de onda usando las ecuaciones de Maxwell.\n",
    "\n",
    "[1] Escribe las ecuaciones de Maxwell en el vacío.\n",
    "\n",
    "[2] Aplica el rotacional a las ecuaciones que incluyen el rotacional de $\\vec{B}$ y $\\vec{E}$. Finalmente utiliza las ecuaciones que incluyen la divergencia de ambos campos para obtener 2 ecuaciones diferenciales parciales que dependen cada una sólo de $\\vec{E}$ o sólo de $\\vec{B}$. Esta es la ecuación de onda en el vacío. \n",
    "\n",
    "[3] Escrive la misma ecuación en su versión 1D (deshazte de las deribadas con respecto de $y$ y de $z$) y resuelvela numéricamente para diferentes condiciones iniciales(similar a lo que hiciste sobre la ecuación de calor). ¿Siempre se obtienen ondas sinusoidales?  \n",
    "\n",
    "[4] Ahora resuelve la ecuación en 2D y haz una animación de la solución. \n"
   ]
  },
  {
   "cell_type": "markdown",
   "metadata": {},
   "source": [
    "# Parte 2: Ecuación de onda en la materia\n",
    "\n",
    "El siguiente paso es re-hacer lo del paso anterior, pero ahora con las ecuaciones de Maxwell en la materia. \n",
    "\n",
    "[1] Escribe las ecuaciones de Maxwell en la materia (libres de carga) y en materiales homogeneos y obtén la ecuación de onda correspondiente. Esta será básicamente igual que la que obtuviste en la parte anterior salvo constantes.\n",
    "\n",
    "[2] Identifica cuál es el índice de refracción en esta nueva ecuación. \n",
    "\n",
    "[3] Haz una simulación de la onda, con condiciones de Neumann (reflejantes) en la frontera (similar a lo que hiciste en la ecuación de calor 2D). \n",
    "\n",
    "\n",
    "\n"
   ]
  },
  {
   "cell_type": "markdown",
   "metadata": {},
   "source": [
    "# Parte 3: Cristal fotónico en 1D\n",
    "\n",
    "En esta sección simularemos un cristal fotónico formado por láminas de diferentes materiales y un haz de luz que penetra perpendicularmente este material. \n",
    "\n",
    "[1] Asume que el campo eléctrico y magnético sigues una onda sinusoidal, una sobre el eje $x$ y el otro sobre el eje $y$ (es decir: $E(z,t) = (E_0 exp(i(k_z -\\omega t),0,0)$ y $B(z,t) = (0,E_0/v exp(i(k_z -\\omega t),0)$ ($k_z$ es la componente z del vector de onda, $i$ es el númer imaginario, $E_0$ es la amplitud del campo eléctrico $v$ es la velocidad de la onda en el medio y $\\omega$ es la frecuencia de la onda). Esta onda incide sobre un nuevo material de forma normal. Entonces una parte será reflejada y otra trasmitida. Calcula los coeficientes de reflección y trasmisión de una onda reflejada y refractada. \n",
    "\n",
    "[2] Haz una simulación en 1D, que utilice condiciones de reflección a la frontera, pero disminuya la amplitud de la onda por el coeficiente de reflección. Además, debe generar una onda refractada cuya amplitud esté reducida por el coeficiente de trasmición (Hint: puedes separar cada nueva onda generada en la frontera y simplemente sumar fases). Haz una animación donde se lleguen a ver al menos unas 4 reflecciones. \n",
    "\n",
    "[3] Dibuja un arreglo periódico 2 dos materiales intercalados (diferentes índices de refracción). Cada uno con la misma longitud. \n",
    "\n",
    "[4] Usando condiciones periódicas a la frontera del sistema completo y condiciones de reflección y trasmisión en los interiores de cada material, haz una simulación de tu cristal fotónico. \n",
    "\n",
    "[5] Varía la frecuencia de tu simulación y haz una gráfica $I$ vs $\\omega$, donde $I$ es la amplitud de la onda en la frontera de tu sistema y $\\omega$ es la frecuencia.  ¿Con qué frecuencias se tienen máximos y con cuales mínimos? "
   ]
  },
  {
   "cell_type": "markdown",
   "metadata": {},
   "source": [
    "# Parte 4: Cristales fotónicos en 2D\n",
    "\n",
    "En 2D trabajaremos con cristales formados por cilindros incrustados en un medio homogeneo. Para facilitar las cosas, estos cilindros estarán acomodados de forma periódica, en un arreglo cuadrado. Resolver las ecuaciones de Maxwell en este sistema no es tan sencillo, por lo que haremos una simplificación del problema (como proyecto final podrías hacer un código que resuelva realmente las ecuaciones de Maxwell en este caso usando ideas similares a desarrolladas en la parte 3, pero cuyas condiciones a la frontera no son tan simples). \n",
    "\n",
    "[1] Escribe la ecuación de Snell de la reflección y de la refracción en su forma vectorial. Con ello haz una función que dado un vector de velocidad y la pendiente de una recta que separe 2 medios, de índices de refracción $n_1$ y $n_2$, calcule la velocidad de la onda refractada y la onda reflejada. \n",
    "\n",
    "[2] Calcula los coeficientes (puedes buscarlos) de reflección y trasmisión para una onda al encontrarse con la frontera entre 2 medios. Haz una función que calcule ambos como funciónd de los índices de refracción, el vector de velocidad de la onda y la pendiente de la recta que separe ambos medios. \n",
    "\n",
    "[3] Haz una función que calcule la interesección entre un círculo de radio $r$ y centro $\\vec{x_c}$ y una partícula con posición inicial $\\vec{x_0}$ y velocidad $\\vec{v}$. \n",
    "\n",
    "[4] Usando los primeros 3 puntos de esta parte, dibuja la trayectoria (haz una función que calcule la trayectoria y dibujala) de varios fotones, al encontrarse con un cilindro (círculo) de un material cuyo índice de refracción es diferente al del resto del medio. Para decidir si el fotón se refleja o refracta, usa una variable aleatoria, si esta es menor que el coefficiente de reflexión, la partícula se refleja, sino, se refracta. \n",
    "\n",
    "[5] Repite el paso anterior, pero ahora estando el fotón dentro de una caja con condiciones periódicas a la frontera (también está el disco con centro en el centro de la caja). \n",
    "\n",
    "[6] Los fotones pueden interferirse entre ellos. Si se encuentran en un punto, las ondas se suman considerando la fase en la que están ($\\sum cos(\\omega (\\delta_i+t))$, con $\\delta_i$ la fase de cada fotón, con $t$ el tiempo, que por el momento haremos 0 y $\\omega$ la frecuencia). La fase de un fotón depende del tiempo que lleve \"viajando\", la frecuencia que tenga asociada y el número de reflexiones que haya tenido. Escribe una función que calcule la fase de un fotón dados los datos mencionados. \n",
    "\n",
    "[7] Haz una función que dado un conjunto de fotones y sus fases, subdivida la caja en la cual están los fotones en $N^2$ cajitas y sume las fases de los fotones que se encuentren en cada subcajita y haga con ello un histograma (posición de la subcaja vs amplitud). \n",
    "\n",
    "La función anterior supone que no están saliendo fotones todo el tiempo y eso conlleva a un error. Imaginemos que ponemos fotones saliendo del origen de un plano. Los fotones todos con la misma frecuencia y viajando en todas direcciones. Esto nos daría que su amplitud variaría con el paso del tiempo (y por lo tanto la posición), pero queremos que la intensidad en este caso sea constante. Para esto, necesitamos integrar los $\\sum cos(\\omega (\\delta_i+t))$ sobre $t$ desde $t = 0$ hasta $t = 2\\pi/\\omega$. \n",
    "\n",
    "[8] Haz una función que haga justamente esa integral. \n",
    "\n",
    "[9] Haz una simulación, donde se ponen inicialmente $10^4$ fotones todos con la misma velocidad, pero partiendo de un rango (pequeño) de posibles valores de $x$ (misma $y$). Haz una animación de la \"intensidad luminosa\" en cada punto (con un código de colores que puede ser via heatmap) para varios tiempos. ¿Se llega a un estado estacionario? \n",
    "\n",
    "[10] Repite el paso anterior para varias frecuencias. ¿Hay algunas frecuencias que son \"especiales\"? Discute al respecto. \n",
    "\n"
   ]
  },
  {
   "cell_type": "markdown",
   "metadata": {},
   "source": [
    "Nota: Recuerda que las prácticas no son tareas, es decir, puedes cambiar cada paso a tu conveniencia. El propósito de esta práctica es modelar la luz, si lo haces modificando las configuraciones o valiéndote de fórmulas que ya conoces, es siempre válido. "
   ]
  }
 ],
 "metadata": {
  "kernelspec": {
   "display_name": "Julia 0.6.1",
   "language": "julia",
   "name": "julia-0.6"
  },
  "language_info": {
   "file_extension": ".jl",
   "mimetype": "application/julia",
   "name": "julia",
   "version": "0.6.1"
  }
 },
 "nbformat": 4,
 "nbformat_minor": 2
}
