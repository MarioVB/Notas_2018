{
 "cells": [
  {
   "cell_type": "markdown",
   "metadata": {},
   "source": [
    "# Problemas de valor de frontera (estacionarios)"
   ]
  },
  {
   "cell_type": "markdown",
   "metadata": {},
   "source": [
    "Hasta ahora, hemos estudiado únicamente las **ecuaciones de evolución**, o sea, problemas de **valores iniciales**, en el cual se quiere determinar la evolución temporal de la solución, tanto para EDOs como para EDPs.\n",
    "\n",
    "Otra clase fundamental de problemas son los **problemas estacionarios** o **problemas estáticos**, también llamados **problemas de valor de frontera**. En este tipo de problemas, se busca una solución *estacionaria*, es decir, una solución que no cambia en el tiempo, para la cual toda la dependencia proviene de las condiciones de frontera.\n",
    "\n",
    "Este tipo de problemas surge en distintos contextos. Por ejemplo, si resolvemos la ecuación de difusión con condiciones de Dirichlet dadas que no sean cero, la solución temporal *converge* a una solución estacionaria. ¿Podemos calcular directamente esta solución estacionaria? \n",
    "\n",
    "Los problemas estacionarios también ocurren naturalmente al resolver, por ejemplo, las ecuaciones de Laplace y de Poisson para determinar el potencial (y de ahí el campo) eléctrico para una configuración dada de cargas y fronteras."
   ]
  },
  {
   "cell_type": "markdown",
   "metadata": {},
   "source": [
    "## Las ecuaciones de Poisson y de Laplace "
   ]
  },
  {
   "cell_type": "markdown",
   "metadata": {},
   "source": [
    "Consideremos el problema de encontrar el campo de potencial debido a una distribución de carga eléctrica. El campo de potencial $V(\\mathbf{x})$ satisface la ecuación de Poisson,\n",
    "\n",
    "$$ \\nabla^2 V(\\mathbf{x}) = -\\rho(\\mathbf{x}), $$\n",
    "\n",
    "donde $\\rho(\\mathbf{x})$ es la densidad de carga en unidades adecuadas.\n",
    "Además, necesitamos condiciones de frontera; por ejemplo, para un condensador de dos placas, sería $V = V_1$ y $V = V_2$, respectivamente, en cada placa."
   ]
  },
  {
   "cell_type": "markdown",
   "metadata": {},
   "source": [
    "Para comenzar, consideremos el problema en una sola dimensión; entonces, la ecuación por resolver es\n",
    "\n",
    "$$ \\frac{d^2 V(x)}{dx^2} = -\\rho(x) \\quad (*) $$ \n",
    "\n",
    "para todas las $x$,\n",
    "con los potenciales en las placas $V(a) = x_1$ y $V(b) = x_2$,\n",
    "es decir, una EDO con valores en la frontera.\n",
    "\n",
    "Este tipo de problema es de una naturaleza *completamente diferente* de los que hemos visto anteriormente en EDOs, ya que *no hay evolución* en el tiempo. Y sin embargo..."
   ]
  },
  {
   "cell_type": "markdown",
   "metadata": {},
   "source": [
    "**[1]** Discreticemos el espacio 1D con una malla con nodos $x_i$. Llamemos $V_i$ el valor aproximado desconocido de la solución $V(x_i)$ en el nodo $x_i$. \n",
    "\n",
    "En el sitio $x_i$ de la malla, ¿cuál es la ecuación discretizada?"
   ]
  },
  {
   "cell_type": "code",
   "execution_count": null,
   "metadata": {
    "collapsed": true
   },
   "outputs": [],
   "source": []
  },
  {
   "cell_type": "markdown",
   "metadata": {},
   "source": [
    "Dado que ya no hay evolución en el tiempo, todas las ecuaciones para todos los sitios $i$ **se deben cumplir simultáneamente**. "
   ]
  },
  {
   "cell_type": "markdown",
   "metadata": {},
   "source": [
    "**[2]** ¿Qué tipo de problema resulta entonces? Escribe el problema con una notación que conoces de otros cursos."
   ]
  },
  {
   "cell_type": "code",
   "execution_count": null,
   "metadata": {
    "collapsed": true
   },
   "outputs": [],
   "source": []
  },
  {
   "cell_type": "markdown",
   "metadata": {},
   "source": [
    "Hay varios métodos posibles para resolver problemas de esta índole. Aunque se pueden ocupar métodos iterativos, parecidos a la solución de la ecuación de difusión, aquí utilizaremos métodos *directos* (que simplemente quiere decir \"no iterativos\")."
   ]
  },
  {
   "cell_type": "markdown",
   "metadata": {},
   "source": [
    "El álgebra lineal numérica es un tema enorme, y de suma importancia en el cómputo científico. Desgraciadamente, no tenemos tiempo para cubrirlo en detalle; se recomienda el libro *Numerical Linear Algebra* de Trefethen y Bau."
   ]
  },
  {
   "cell_type": "markdown",
   "metadata": {},
   "source": [
    "**[3]** (i) La solución numérica a este tipo de problema se logra en Julia con el operador `\\`.\n",
    "Utilízalo para encontrar la solución numérica cuando $\\rho \\equiv 0$.\n",
    "\n",
    "(ii) Encuentra la solución analítica de la ecuación diferencial y compáralo con tu solución."
   ]
  },
  {
   "cell_type": "code",
   "execution_count": null,
   "metadata": {
    "collapsed": true
   },
   "outputs": [],
   "source": []
  },
  {
   "cell_type": "markdown",
   "metadata": {},
   "source": [
    "**[4]** (i) Utiliza la misma técnica para resolver el siguiente problema de valor de frontera para $y(x):\n",
    "\n",
    "$$ y'' + y = 0;$$\n",
    "$$ y(0) = 0;$$\n",
    "$$ y(\\pi/2) = 2.$$\n",
    "\n",
    "Compara tu solución con el resultado analítico.\n",
    "\n",
    "(ii) ¿Qué ocurre si cambias las condiciones en la frontera a $y(0) = 1$ y $y(\\pi/2) = 2$?"
   ]
  },
  {
   "cell_type": "code",
   "execution_count": null,
   "metadata": {
    "collapsed": true
   },
   "outputs": [],
   "source": []
  },
  {
   "cell_type": "markdown",
   "metadata": {},
   "source": [
    "**[5]** Considera la ecuación de Poisson en 1D con una carga puntual en la posición $x_0$. \n",
    "\n",
    "(i) ¿Qué $\\rho(x)$ necesitas utilizar? ¿Cómo se discretiza? \n",
    "\n",
    "(ii) Discretiza la ecuación.\n",
    "\n",
    "(iii) Implementa esto y verifica que la solución sea correcta.\n",
    "\n",
    "(iv) ¿Qué ocurre con dos cargas puntuales en lugares diferentes? "
   ]
  },
  {
   "cell_type": "code",
   "execution_count": null,
   "metadata": {
    "collapsed": true
   },
   "outputs": [],
   "source": []
  },
  {
   "cell_type": "markdown",
   "metadata": {},
   "source": [
    "# La ecuación de Poisson en 2D"
   ]
  },
  {
   "cell_type": "markdown",
   "metadata": {},
   "source": [
    "Ahora veremos cómo podemos resolver la **ecuación de Poisson** en 2D,\n",
    "\n",
    "$$ \\nabla^2 V(\\mathbf{x}) = -\\rho(\\mathbf{x}) \\qquad (*)$$\n",
    "\n",
    "para encontrar el potencial y campo eléctrico debido a una distribución de carga $\\rho(\\mathbf{x})$ en una caja cuadrada. Extenderemos la misma idea que aplicamos en 1D."
   ]
  },
  {
   "cell_type": "markdown",
   "metadata": {},
   "source": [
    "**[6]** Discreticemos una caja de tamaño $L_x \\times L_y$ con $M_x$ y $M_y$ celdas en las direcciones $x$ y $y$, respectivamente, de tamaños $h$ y $k$. Denotemos por $V_{i,j}$ el valor aproximado de $V(x_i, y_j)$ en el nodo $(x_i, y_j)$.\n",
    "\n",
    "(i) Encuentra una aproximación en diferencias finitas para $\\nabla^2 V(x_i, y_j)$ en el punto $(x_i, y_j)$ de la malla.\n",
    "\n",
    "(ii) Así, escribe la ecuación discretizada correspondiente a (*) en el nodo $(x_i, y_j)$."
   ]
  },
  {
   "cell_type": "code",
   "execution_count": null,
   "metadata": {
    "collapsed": true
   },
   "outputs": [],
   "source": []
  },
  {
   "cell_type": "markdown",
   "metadata": {},
   "source": [
    "**[7]** Escribe todas estas ecuaciones, para todas las $i$ y $j$, simultáneamente como *una sola ecuación matricial*. Es decir, debemos recolectar todas las $V(x_i, y_j)$ en *un solo vector*.\n",
    "\n",
    "(i) Para hacerlo, enlista los puntos $(x_i, y_j)$ de una forma coherente, y escribe funciones correspondientes para pasar de la posición 2D dada por $(i, j)$ a la posición lineal $k$ en tu lista, y vice versa.\n",
    "\n",
    "(ii) Para sistemas chiquitos, muestra las matrices correspondientes que se generan."
   ]
  },
  {
   "cell_type": "code",
   "execution_count": null,
   "metadata": {
    "collapsed": true
   },
   "outputs": [],
   "source": []
  },
  {
   "cell_type": "markdown",
   "metadata": {},
   "source": [
    "**[8]** (i) Resuelve la ecuación de Laplace,\n",
    "$$\\nabla^2 V = 0$$ con condiciones de frontera de Dirichlet, es decir, con valores dados en las fronteras. Empieza con el caso que $V=0$ en tres de las fronteras y $V=\\mathrm{constante}$ en la frontera de arriba. \n",
    "\n",
    "(ii) Dibuja el potencial como una función en 3D, y como equipotenciales (con la función `contour`).\n",
    "\n",
    "(iii) Encuentra las componentes del campo eléctrico $\\mathbf{E} = -\\nabla \\phi$. Dibuja el campo vectorial. [Para esto se puede utilizar la función `quiver`.]\n",
    "\n",
    "(iv) Experimenta con distintas condiciones de frontera. Utiliza `@manipulate`."
   ]
  },
  {
   "cell_type": "code",
   "execution_count": null,
   "metadata": {
    "collapsed": true
   },
   "outputs": [],
   "source": []
  },
  {
   "cell_type": "markdown",
   "metadata": {},
   "source": [
    "**[9]** (i) Resuelve la ecuación de Poisson para una carga puntual tipo delta en algún punto de la malla. Utiliza condiciones de frontera $V(x_i, y_j) = 0$ (representando un campo que decae $0$ a una distancia grande desde la carga). \n",
    "\n",
    "(ii) Dibuja el potencial y el campo eléctrico.\n",
    "\n",
    "(iii) ¿Qué ocurre si agregas otra carga?\n",
    "\n",
    "(iv) ¿Cómo puedes modelar un dipolo? ¿Cómo es el campo eléctrico?"
   ]
  },
  {
   "cell_type": "code",
   "execution_count": null,
   "metadata": {
    "collapsed": true
   },
   "outputs": [],
   "source": []
  },
  {
   "cell_type": "markdown",
   "metadata": {},
   "source": [
    "**[10]** Encuentra el potencial y el campo eléctrico para un capacitor \"verdadero\", es decir, dos placas paralelas de tamaño finito (menor de la caja), tanto entre las placas como afuera de ellas."
   ]
  },
  {
   "cell_type": "code",
   "execution_count": null,
   "metadata": {
    "collapsed": true
   },
   "outputs": [],
   "source": []
  }
 ],
 "metadata": {
  "kernelspec": {
   "display_name": "Julia 0.5.2",
   "language": "julia",
   "name": "julia-0.5"
  },
  "language_info": {
   "file_extension": ".jl",
   "mimetype": "application/julia",
   "name": "julia",
   "version": "0.5.2"
  },
  "toc": {
   "colors": {
    "hover_highlight": "#DAA520",
    "running_highlight": "#FF0000",
    "selected_highlight": "#FFD700"
   },
   "moveMenuLeft": true,
   "nav_menu": {
    "height": "48px",
    "width": "252px"
   },
   "navigate_menu": true,
   "number_sections": true,
   "sideBar": true,
   "threshold": "1",
   "toc_cell": false,
   "toc_section_display": "block",
   "toc_window_display": false
  }
 },
 "nbformat": 4,
 "nbformat_minor": 1
}
