{
 "cells": [
  {
   "cell_type": "markdown",
   "metadata": {},
   "source": [
    "# La ecuación de calor en 2D"
   ]
  },
  {
   "cell_type": "markdown",
   "metadata": {},
   "source": [
    "Los sistemas físicos raremente viven en 1 sola dimensión. Es más usual que sean dos-dimensionales o tres-dimensionales. \n",
    "\n",
    "Dado que los sistemas 3D son computacionalmente demandantes, y las ideas a menudo son las mismas que en 2D, nos restringiremos aquí al caso 2D.\n",
    "\n",
    "La ecuación de difusión en 2D es\n",
    "\n",
    "$$\\frac{\\partial u(t, x, y)}{\\partial t} = \\nabla^2 u(t, x, y),$$\n",
    "\n",
    "donde $\\nabla^2 u(t, x, y) = \\frac{\\partial^2 u(t, x, y)}{\\partial x^2} + \\frac{\\partial^2 u(t, x, y)}{\\partial y^2}$."
   ]
  },
  {
   "cell_type": "markdown",
   "metadata": {},
   "source": [
    "Para discretizar el sistema, utilizaremos una malla $(x_i, y_j; t_n)$, con tamaños de paso $h$ para el tiempo, $k$ para $x$, y $l$ para $y$. Usaremos la notación $u^n_{i,j} \\approx u(t_n, x_i, y_j)$ para los valores desconocidos aproximados en los puntos de la malla."
   ]
  },
  {
   "cell_type": "markdown",
   "metadata": {},
   "source": [
    "**[1]** (i) Encuentra una discretización para $\\nabla^2 u$ en el punto $(x_i, y_j; t_n)$.\n",
    "\n",
    "(ii) Así, escribe la ecuación discretizada en la malla, y de ahí la regla para la evolución de Euler en el tiempo, siguiendo los mismos pasos que para la ecuación de difusión en 1D.\n",
    "\n",
    "(iii) ¿Cómo son las condiciones de frontera de Dirichlet ahora? ¿Qué esperas ver físicamente para este tipo de condiciones absorbentes?"
   ]
  },
  {
   "cell_type": "code",
   "execution_count": null,
   "metadata": {
    "collapsed": true
   },
   "outputs": [],
   "source": []
  },
  {
   "cell_type": "markdown",
   "metadata": {},
   "source": [
    "**[2]** \n",
    "\n",
    "(i) Implementa esto computacionalmente y haz una animación para una condición inicial tipo delta. \n",
    "Ahora en lugar de un vector para representar al estado actual del sistema, necesitarás una *matriz* para las $u^n_{i,j}$ en el tiempo actual $t_n$ [Puedes utilizar `heatmap` para dibujar la matriz en cada tiempo.]\n",
    "\n",
    "(ii) ¿Qué ocurre para otras condiciones iniciales?"
   ]
  },
  {
   "cell_type": "code",
   "execution_count": null,
   "metadata": {
    "collapsed": true
   },
   "outputs": [],
   "source": []
  },
  {
   "cell_type": "markdown",
   "metadata": {},
   "source": [
    "**[3]** (i) Encuentra las ecuaciones que describen condiciones de Neumann (reflejantes) en la frontera.\n",
    "\n",
    "(ii) Modifica tu código para que puedas escoger cuáles condiciones de frontera utilizarás. \n",
    "\n",
    "(iii) Haz una animación con las nuevas condiciones de frontera.\n",
    "\n",
    "(iv) Ahora hazlo con condiciones **periódicas** de frontera. Aquí, el vecino de una celda en la frontera que \"se sale del sistema\" se toma como la celda *del otro lado del sistema*. [Esto da la topología de un toro al sistema, y minimiza el efecto de las fronteras, para simular mejor un sistema de tamaño \"infinito\".]"
   ]
  },
  {
   "cell_type": "code",
   "execution_count": null,
   "metadata": {
    "collapsed": true
   },
   "outputs": [],
   "source": []
  }
 ],
 "metadata": {
  "kernelspec": {
   "display_name": "Julia 0.6.1",
   "language": "julia",
   "name": "julia-0.6"
  },
  "language_info": {
   "file_extension": ".jl",
   "mimetype": "application/julia",
   "name": "julia",
   "version": "0.6.1"
  },
  "toc": {
   "colors": {
    "hover_highlight": "#DAA520",
    "running_highlight": "#FF0000",
    "selected_highlight": "#FFD700"
   },
   "moveMenuLeft": true,
   "nav_menu": {
    "height": "30px",
    "width": "252px"
   },
   "navigate_menu": true,
   "number_sections": true,
   "sideBar": true,
   "threshold": "1",
   "toc_cell": false,
   "toc_section_display": "block",
   "toc_window_display": false
  }
 },
 "nbformat": 4,
 "nbformat_minor": 1
}
