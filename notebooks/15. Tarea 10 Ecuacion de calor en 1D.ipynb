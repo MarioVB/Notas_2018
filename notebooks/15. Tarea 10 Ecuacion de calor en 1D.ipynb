{
 "cells": [
  {
   "cell_type": "markdown",
   "metadata": {},
   "source": [
    "# Ecuaciones parciales diferenciales de evolución"
   ]
  },
  {
   "cell_type": "markdown",
   "metadata": {},
   "source": [
    "Las ecuaciones diferenciales parciales (EDPs) constituyen una área de suma importancia en la física, ya que modelan sistemas que varían con respecto a más de una variable independiente, por ejemplo, tanto el tiempo como el espacio.\n",
    "\n",
    "Del punto de vista numérico, el tipo de EDPs que es (conceptualmente) más sencillo son las llamadas **parabólicas**, es decir, **ecuaciones de evolución**, de las cuales la más conocida es la **ecuación de calor** o **ecuación de difusión**."
   ]
  },
  {
   "cell_type": "markdown",
   "metadata": {},
   "source": [
    "# La ecuación de calor"
   ]
  },
  {
   "cell_type": "markdown",
   "metadata": {},
   "source": [
    "La ecuación de calor modela el esparcimiento en el tiempo y en el espacio de un \"paquete\" de calor (perturbación local de temperatura en una región) o un \"paquete\" de concentración de una sustancia física o química. \n",
    "\n",
    "Llamemos $u(t, \\mathbf{x})$ la temperatura o la concentración de la sustancia en la posición $\\mathbf{x}$ al tiempo $t$. Recordemos que la ecuación de calor es\n",
    "\n",
    "$$\\frac{\\partial u(t, \\mathbf{x})}{\\partial t} = D \\, \\nabla^2 u(t, \\mathbf{x}),$$\n",
    "\n",
    "con $\\nabla^2 := \\frac{\\partial^2}{\\partial x^2} + \\frac{\\partial^2}{\\partial y^2} + \\frac{\\partial^2}{\\partial z^2}$ en tres dimensiones.\n",
    "\n",
    "Esta ecuación nos dice cómo varía la concentración en el tiempo, dadas las condiciones locales en el espacio. Se deriva en términos de una ley de conservación:\n",
    "\n",
    "$$\\frac{\\partial u}{\\partial t} + \\nabla \\cdot \\mathbf{J} = 0,$$\n",
    "\n",
    "donde el flujo de calor o de concentración $\\mathbf{J}$ es proporcional a la gradiente local:\n",
    "\n",
    "$$\\mathbf{J} = -D \\, \\nabla u.$$\n",
    "\n",
    "La ecuación de calor es una **ecuación de evolución** que describe cómo evoluciona el sistema en el tiempo. Por lo tanto, su tratamiento se sigue de forma directa de lo que hemos visto para EDOs. (Es por eso que esta clase de EDPs es la más sencilla para comenzar.)"
   ]
  },
  {
   "cell_type": "markdown",
   "metadata": {},
   "source": [
    "## Una dimensión\n",
    "\n",
    "Empecemos con el caso más sencillo, con sólo una dimensión espacial. En este caso, la ecuación de calor se reduce a\n",
    "\n",
    "$$\\frac{\\partial u(t, x)}{\\partial t} = D \\frac{\\partial^2 u(t, x)}{\\partial x^2}.$$\n",
    "\n",
    "Para resolverla, necesitaremos además:\n",
    "- una condición inicial $u(t=0, x) = f(x)$ (una función del espacio)\n",
    "- condiciones en la frontera, $u(t, x)$ para todo $x$ en la frontera del dominio espacial, y para todo $t$."
   ]
  },
  {
   "cell_type": "markdown",
   "metadata": {},
   "source": [
    "# Métodos numéricos para la ecuación de calor"
   ]
  },
  {
   "cell_type": "markdown",
   "metadata": {},
   "source": [
    "Dado que, como siempre, no podemos resolver problemas de naturaleza continua en la computadora, debemos *aproximar* la solución $u(t, x)$ de alguna forma. La manera más sencilla es, de nuevo, utilizar una **discretización**."
   ]
  },
  {
   "cell_type": "markdown",
   "metadata": {},
   "source": [
    "**[1]** (i) Pensando en tu experiencia con las ecuaciones diferenciales ordinarias, ¿cómo se puede discretizar $u(t, x)$, utilizando un tamaño de paso $h$ en el tiempo y $k$ en el espacio. Piensa que los valores posibles de $x$ son en el intervalo $[0, L]$.\n",
    "\n",
    "Denotemos con $t_n$ el tiempo al paso número $n$, y con $u^n_i$ la aproximación de la solución en el nodo número $i$ en el espacio al tiempo $n$.\n",
    "\n",
    "(ii) ¿Cómo se puede discretizar la ecuación de calor unidimensional? \n",
    "\n",
    "(iii) Reescribe la discretización para dar $u^{n+1}_i$ en términos de distintos $u^n_j$s al tiempo anterior."
   ]
  },
  {
   "cell_type": "code",
   "execution_count": null,
   "metadata": {
    "collapsed": true
   },
   "outputs": [],
   "source": []
  },
  {
   "cell_type": "markdown",
   "metadata": {},
   "source": [
    "**[2]** Considera la ecuación de calor en una dimensión sobre el intervalo de $x=-L$ a $x=L$, con condición inicial $u(t=0, x) = \\delta(x)$, donde $\\delta$ es la delta de Dirac, y condiciones de frontera absorbentes (de Dirichlet), es decir, $u(t, -L) = u(t, +L) = 0$ para todo $t > 0$.\n",
    "\n",
    "(i) ¿Qué esperas intuitivamente que pase durante la evolución? ¿Qué ocurrirá para tiempos largos?\n",
    "\n",
    "(ii) Escribe la solución analítica exacta para $u(x, t)$ en el caso cuando $L \\to \\infty$ (es decir, cuando \"no hay fronteras\" y la difusión ocurre en toda la recta real).\n",
    "\n",
    "(iii) Implementa el sistema, tomando cuidado en lo que ocurre en las fronteras. Para hacerlo, utiliza un vector para representar el estado actual del sistema, y otro vector para el estado al tiempo siguiente.\n",
    "\n",
    "[Para representar la $\\delta$ de Dirac, piensa que $u^n_i$ realmente representa una integral sobre una celda.]\n",
    "\n",
    "[Puedes utilizar el paquete `OffsetArrays.jl` para poder utilizar arreglos cuyos índices empiecen en $-L$ y terminen en $+L$. Alternativamente, puedes hacer el cálculo a mano de cuál índice de un arreglo usual corresponde a la celda número $i$.]\n",
    "\n",
    "(iv) Dibuja la evolución en el tiempo (es decir, dibuja $u(x,t)$ para varios valores de $t$ en una sola gráfica, y con `Interact`). ¿Ocurre lo que esperabas? Dibuja en la misma gráfica la solución analítica exacta para $L \\to \\infty$. ¿Qué observas?\n",
    "\n",
    "(v) Dibuja la evolución como un \"heat map\" (mapa de calor), es decir, dibuja la matriz dos-dimensional $(u^n_i)$ con colores que representan los valores de cada elemento de la matriz.\n",
    "\n",
    "(vi) ¿Qué ocurre si tomas otra condición inicial, por ejemplo una suma de dos deltas? Compáralo con el caso anterior en la misma gráfica.\n",
    "\n",
    "(vii) Pensando en la ecuación como la ecuación de difusión, ¿cuál cantidad relacionada con $u$ representa la cantidad total de masa? ¿Qué debería satisfacer ésta durante la evolución para un sistema infinito? ¿Qué pasará con condiciones de frontera de Dirichlet? Demuéstralo numéricamente."
   ]
  },
  {
   "cell_type": "code",
   "execution_count": null,
   "metadata": {
    "collapsed": true
   },
   "outputs": [],
   "source": []
  },
  {
   "cell_type": "markdown",
   "metadata": {},
   "source": [
    "**[3]** (i) Los parámetros $h$ y $k$ de la discretización en el tiempo y en el espacio, respectivamente, ocurren en una cierta combinación en la ecuación discretizada que obtuviste. ¿Cuál es?  \n",
    "\n",
    "(ii) Resulta que el método numérico es estable para ciertos valores de este parámetro, e inestable para otros. Encuentra numéricamente el valor crítico de este parámetro, debajo del cual el método es estable y arriba del cual es inestable."
   ]
  },
  {
   "cell_type": "code",
   "execution_count": null,
   "metadata": {
    "collapsed": true
   },
   "outputs": [],
   "source": []
  },
  {
   "cell_type": "markdown",
   "metadata": {},
   "source": [
    "**[4]** Considera la ecuación de difusión unidimensional, pero ahora con condiciones de frontera **reflejantes** (de Neumann).\n",
    "\n",
    "(i) Escribe la ecuación correspondiente a las condiciones de frontera en $x=\\pm L$.\n",
    "\n",
    "(ii) ¿Cómo se pueden discretizar estas condiciones de frontera, utilizando la misma discretización $u^n_i$?\n",
    "\n",
    "(iii) ¿Qué esperas intuitivamente que ocurre con este tipo de ecuaciones de frontera?\n",
    "\n",
    "(iv) Impleméntalo, de forma tal que puedas escoger qué tipo de condiciones de frontera quieras según un argumento a la función. \n",
    "\n",
    "(v) Grafica la evolución temporal.\n",
    "\n",
    "(vi) ¿La ley de conservación se satisface en este caso? Demuéstralo numéricamente."
   ]
  },
  {
   "cell_type": "code",
   "execution_count": null,
   "metadata": {
    "collapsed": true
   },
   "outputs": [],
   "source": []
  },
  {
   "cell_type": "markdown",
   "metadata": {},
   "source": [
    "**[5]** Considera un sistema con condiciones **periódicas**, es decir, \n",
    "sobre un círculo, en el cual $u(x=0) = u(x=L)$ para toda $t$. \n",
    "\n",
    "Numéricamente, esto quiere decir que la vecina izquierda de la celda número 1 es la celda número $L$, y vice versa.\n",
    "Esto se puede implementar con un `if` o un `%`, o bien haciendo \"celdas fantasmas\" adicionales (celdas números $0$ y $L+1$), a las cuales se copia la información correspondiente en cada paso.\n",
    "\n",
    "(i) ¿Qué esperas intuitivamente ver con estas condiciones de frontera?\n",
    "\n",
    "(ii) Impleméntalo, tal que puedas escoger qué tipo de condiciones de frontera quieras según un argumento a la función.\n",
    "\n",
    "(iii) (vi) ¿La ley de conservación se satisface en este caso? Demuéstralo numéricamente."
   ]
  },
  {
   "cell_type": "code",
   "execution_count": null,
   "metadata": {
    "collapsed": true
   },
   "outputs": [],
   "source": []
  },
  {
   "cell_type": "markdown",
   "metadata": {},
   "source": [
    "**[6]** Pensando *únicamente* en la parte de la evolución temporal:\n",
    "\n",
    "(i) ¿A qué método numérico para EDOs corresponde lo que implementaste?\n",
    "\n",
    "(ii) Piensa de nuevo en la EDP original, a ahora discretiza *solamente* la derivada espacial de la ecuación y deja sin discretizarse la derivada temporal. El resultado se llama una **semi-discretización** de la ecuación. ¿Qué forma tienen las ecuaciones resultantes?\n",
    "\n",
    "(iii) Así, especifica cuáles otros métodos numéricos podrías aplicar.\n",
    "\n",
    "(iv) Impleméntalos y compáralos con la solución analítica"
   ]
  },
  {
   "cell_type": "code",
   "execution_count": null,
   "metadata": {
    "collapsed": true
   },
   "outputs": [],
   "source": []
  }
 ],
 "metadata": {
  "kernelspec": {
   "display_name": "Julia 0.5.2",
   "language": "julia",
   "name": "julia-0.5"
  },
  "language_info": {
   "file_extension": ".jl",
   "mimetype": "application/julia",
   "name": "julia",
   "version": "0.5.2"
  },
  "toc": {
   "colors": {
    "hover_highlight": "#DAA520",
    "running_highlight": "#FF0000",
    "selected_highlight": "#FFD700"
   },
   "moveMenuLeft": true,
   "nav_menu": {
    "height": "66px",
    "width": "252px"
   },
   "navigate_menu": true,
   "number_sections": true,
   "sideBar": true,
   "threshold": "1",
   "toc_cell": false,
   "toc_section_display": "block",
   "toc_window_display": false
  }
 },
 "nbformat": 4,
 "nbformat_minor": 1
}
