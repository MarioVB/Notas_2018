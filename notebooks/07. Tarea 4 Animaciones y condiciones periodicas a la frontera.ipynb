{
 "cells": [
  {
   "cell_type": "markdown",
   "metadata": {},
   "source": [
    "*** Este será un notebook sencillo para comenzar la parte de Geometría computacional :-). ***\n",
    "\n",
    "\n"
   ]
  },
  {
   "cell_type": "markdown",
   "metadata": {},
   "source": [
    "# Animaciones\n",
    "\n",
    "Cuando se hace una simulación, frecuentemente necesitamos ver no sólo una gráfica, sino una secuencia de cientos de ellas en forma de video. Para esto podemos guardar cada imagen con un nombre diferente utilizando el símbolo \"\\$\" para cambiar el nombre. Por ejemplo: \n",
    "\n"
   ]
  },
  {
   "cell_type": "code",
   "execution_count": 1,
   "metadata": {},
   "outputs": [],
   "source": [
    "using Plots"
   ]
  },
  {
   "cell_type": "code",
   "execution_count": null,
   "metadata": {},
   "outputs": [],
   "source": [
    "x = 0:0.01:2*pi\n",
    "for i in 1:3\n",
    "    plot(x, sin.(x + i / 10.0))\n",
    "    savefig(\"sinx$i.png\")\n",
    "end"
   ]
  },
  {
   "cell_type": "markdown",
   "metadata": {},
   "source": [
    "Esta versión de hacer un video es útil si queremos hacer una simulación cuyo resultado sea un video de varios minutos; sin embargo, en la mayoría de las ocaciones queremos en realidad checar sólo un video corto (unos pocos segundos) para saber que lo que el programa está simulando lo que queremos que simule. Para esto usaremos dos tipos de macros: \n",
    "\n",
    "- @gif que sirve para generar un gif animado el cual muestra en el notebook y guarda como  \"tmp.gif\". En este caso el gif se reproduce con 10fps.  \n",
    "- @animate genera también un gif animado, pero esta vez lo guarda con el nombre que se desee y los fps que se quieran. \n",
    "\n",
    "Ejemplos: "
   ]
  },
  {
   "cell_type": "code",
   "execution_count": null,
   "metadata": {},
   "outputs": [],
   "source": [
    "x = 0:0.01:2*pi\n",
    "@gif for i=1:100\n",
    "    plot(x, sin.(x + i / 10.0), key = false)\n",
    "end every 2 #guarda sólo cada 20 cuadros"
   ]
  },
  {
   "cell_type": "code",
   "execution_count": null,
   "metadata": {},
   "outputs": [],
   "source": [
    "x = 0:0.01:2*pi\n",
    "anim = @animate for i=1:20\n",
    "    plot(x, sin.(x + i / 10.0), key = false)\n",
    "end\n",
    "gif(anim, \"anim_fps15.gif\", fps = 15)\n",
    "gif(anim, \"anim_fps5.gif\", fps = 5)"
   ]
  },
  {
   "cell_type": "markdown",
   "metadata": {},
   "source": [
    "En algunos casos, lo que queremos es ver múltiples inicios sin guardar cada vez un video completo que quizá dura un par de minutos. Simplemente queremos ver lo que está haciendo nuestra simulación en ese momento. Decimos entonces que queremos que nos arroje resultados en \"tiempo real\". \n",
    "\n",
    "Para poder hacer simulaciones en tiempo real usando Plots, primero tenemos que pedir a nuestro graficador que \"nos muestre\" lo que se graficará, limpiando cada vez el gui (donde se grafica) incluso si está dentro de un ciclo for o while. Para esto, ponemos la instrucción \"show = true\" dentro de los paréntecis del graficador interno de plots que usaremos. Por ejemplo: gr(show = true). \n",
    "\n",
    "Esta instrucción es óptima si se usa desde la terminal, sin embargo, en ijulia no funciona. Si estamos dentro de un notebook, tenemos que usar la instrucción \"show = :ijulia\".\n",
    "\n",
    "Podría pensarse que con la instrucción display() se podrían observar las gráficas en un ciclo for, sin embargo, en el caso de IJulia, esto imprime todas las gráficas, una debajo de la otra, en vez de una remplazando la otra. \n",
    "\n",
    "Por último, a veces las animaciones en tiempo real son demasiado rápidas, pues el cálculo que se requiere hacer para graficar cada paso de la simulación dura milisegundos. Esto conlleva a animaciones que no se ven bien. Para esto se puede usar la función \"sleep(t)\" que detiene cualquier cálculo durante el tiempo $t$ (en segundos) que se deseé.\n",
    "\n",
    "Ejemplo: "
   ]
  },
  {
   "cell_type": "code",
   "execution_count": null,
   "metadata": {},
   "outputs": [],
   "source": [
    "gr(show = :ijulia)"
   ]
  },
  {
   "cell_type": "code",
   "execution_count": null,
   "metadata": {},
   "outputs": [],
   "source": [
    "x = 0:0.01:2*pi\n",
    "for i in 1:200 \n",
    "    plot(x, sin.(x + i / 10.0), key =false)\n",
    "    sleep(0.1)\n",
    "end"
   ]
  },
  {
   "cell_type": "markdown",
   "metadata": {},
   "source": [
    "[1] Haz un gif animado de una partícula moviéndose en linea recta a velocidad constante, fijando los ejes. \n",
    "\n",
    "[2] Haz una animación en tiempo real de una partícula moviéndose en círculos a velocidad angular constante.\n",
    "\n",
    "[3] Haz una animación en tiempo real del tiro parabólico, considerando que la altura de la que sale, es la misma a la que llega. Prueba tu simulación para varias velocidades iniciales. ¿A qué ángulo de tiro con respecto al horizonte se alcanza la mayor distancia? ¿con qué ángulo el lanzamiento dura más tiempo?"
   ]
  },
  {
   "cell_type": "markdown",
   "metadata": {},
   "source": [
    "# Condiciones periódicas a la frontera\n",
    "\n",
    "Muchos problemas en física computacional tratan de estudiar sistemas con un número de partículas infinitas (o extremadamente grande). Esto naturalmente no se puede hacer en casi ningún caso debido a que la memoria de una computadora es finita. Sin embargo, en los sistemas periódicos, como son los cristales sí se pueden simular un número infinito de partículas ya que con un número finito de parámetros se pueden describir a todas. El hecho de que en los sistemas periódicos se puedan simular realmente un número infinito de partículas, da un incentivo para utilizar aproximaciones con sistemas periódicos cuyo periodo es grande, para simular sistemas que no son necesariamente periódicos, como un gas de esferas duras, sistemas coloidales, o casi cualquier sistema con incluya cantidades grandes de partículas. \n",
    "\n",
    "[3] Supón que teselamos el espacio ($n$-dimensional) con cajas pristmáticas-rectangulares iguales en un arreglo periódico (por ejemplo, una cuadrícula). Supón además que una de las cajas está centrada en el origen y con caras ortogonales a los ejes coordenados. Llamemos $L$ al vector que contiene los tamaños de cada lado de la caja. En este caso, si una partícula está en el espacio, puesto que todas las teselas son iguales, podemos describir la posición de la partícula, usando un vector de coordenadas enteras, que nos indica en que caja está la partícula y un vector con valores entre $-L$ y $+L$ que describe la posición de la partícula con respecto al centro de la caja en la que se encuentra. Haz una función que tenga como argumentos la posición de la partícula $x_0$ y el vector $L$ y arroje como resultado la posición de la partícula con respecto al centro de la caja en la que está y el vector de coordenadas enteras que determina la caja en la que está. Para hacer esta función utiliza la función de Julia mod(). Si no sabes como usarla, busca la información correspondiente en: https://docs.julialang.org/en/stable/\n",
    "\n",
    "Guarda la función de arriba en tu archivo \"herramientas.jl\".\n",
    "\n",
    "[4] Considera una partícula que se mueve libre dentro de una caja ND de lado L, con condiciones periódicas a la frontera. Haz una función que requiera la posición inicial de la partícula $x_0$, su velocidad $v$ y un tiempo $t$ y que regrese la nueva posición de la partícula, considerando las condiciones periódicas a la frontera (como pac-man). \n",
    "\n",
    "[5] Para el caso 2D, haz una función que requiera los mismos datos que la función del inciso [4] y que genere una animación en tiempo real de la partícula. (Se tienen que dibujar también los contornos de la caja).\n",
    "\n",
    "[6] Ahora consideraremos que tienes una partícula con forma de disco. Haz una función para simular esta partícula moviéndose circularmente con velocidad angular constante. Ten en cuenta que a todos los puntos se les tiene que aplicar condiciones periódicas a la frontera, independientemente de si el centro \"se salió\" o no de la caja. \n"
   ]
  },
  {
   "cell_type": "markdown",
   "metadata": {},
   "source": [
    "### Condiciones periódicas hexagonales y triangulares\n",
    "\n",
    "Además de teselas cuadradas o rectangulares, hay muchos sistemas que tienen simetría hexagonales o triangulares (además de rombóicos, pero esos los veremos la siguiente clase). En esos casos no tiene sentido aplicar una frontera cuadrada, sino una frontera triangular o hexagonal, según sea el caso. \n",
    "\n",
    "[7] Haz una función que tenga como argumentos el lado de un hexágono, la posición inicial de una partícula y el tiempo $t$ que transcurrirá y que arroje como resultado un vector con 2 coordenadas enteras que defina en qué hexágono está la partícula y otro vector que mida la posición de la partícula con respecto del centro del hexágono en el que se encuentra. Haz una simulación en tiempo real para verificar que tu función arroja los resultados correctos. \n",
    "\n",
    "[8] Haz lo mismo pero esta vez para una frontera triangular con condiciones periódicas a la frontera. Piensa qué significa en este caso las condiciones periódicas a la frontera. "
   ]
  },
  {
   "cell_type": "code",
   "execution_count": null,
   "metadata": {
    "collapsed": true
   },
   "outputs": [],
   "source": []
  }
 ],
 "metadata": {
  "kernelspec": {
   "display_name": "Julia 0.6.0",
   "language": "julia",
   "name": "julia-0.6"
  },
  "language_info": {
   "file_extension": ".jl",
   "mimetype": "application/julia",
   "name": "julia",
   "version": "0.6.0"
  }
 },
 "nbformat": 4,
 "nbformat_minor": 2
}
