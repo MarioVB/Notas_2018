{
 "cells": [
  {
   "cell_type": "markdown",
   "metadata": {},
   "source": [
    "# Interpolación"
   ]
  },
  {
   "cell_type": "markdown",
   "metadata": {},
   "source": [
    "Hemos visto que partiendo de una función continua, podemos utilizar una discretización para calcular numéricamente una derivada.\n",
    "\n",
    "Un problema muy común en el cómputo científico es el problema inverso: tenemos datos discretos, y queremos encontrar una función continua que los aproxime. Una manera de hacer esto es la **interpolación**: \n",
    "\n",
    "> Dados datos $(x_i, y_i)$ para $i=1,\\ldots,N$, encuentra una función $f(x)$ que pase exactamente por los puntos, es decir, tal que $f(x_i) = y_i$ para cada $i$.\n",
    "\n",
    "La interpolación provee, entre muchas otras cosas, una manera de formalizar la derivación de diferencias finitas para calcular derivadas, y para llevar a cabo integrales. \n",
    "Aunque data de la época de Newton, Lagrange y Gauss, algunos de las técnicas más modernas también se basan en la interpolación, para poder trabajar con funciones de forma numérica.\n",
    "\n",
    "Podríamos escoger distintas clases de función $f$ con las cuales interpolar. Aquí, escogemos trabajar con **polinomios**, ya que son funciones que entendemos y que son fáciles de manipular."
   ]
  },
  {
   "cell_type": "markdown",
   "metadata": {},
   "source": [
    "**[1]** El primer caso que tratar es el de dos puntos $(x_1, y_1)$ y $(x_2, y_2)$; está claro que podemos interpolar entre estos dos puntos con una recta. Aunque probablemente puedes escribir casi directamente cuál recta es, seguiremos el procedimiento siguiente, el cual se generaliza para más puntos:\n",
    "\n",
    "(i) Define una función $\\ell_1(x)$ que es lineal y tal que $\\ell_1(x)$ tome el valor $0$ en $x = x_2$. Ahora haz que también tome el valor $1$ en $x = x_1$. Nota que estas dos condiciones determinan la función $\\ell_1$ de forma única.\n",
    "\n",
    "(ii) Por simetría, encuentra la función $\\ell_2(x)$ tal que $\\ell_2(x_1) = 0$ y $\\ell_2(x_2) = 1$.\n",
    "\n",
    "(iii) Utiliza $\\ell_1$ y $\\ell_2$ para encontrar un polinomio lineal que interpola los datos.\n",
    "\n",
    "(iv) Impleméntalo y comprueba gráficamente que sí funciona."
   ]
  },
  {
   "cell_type": "markdown",
   "metadata": {},
   "source": [
    "**[2]** Ahora generalicemos esto a $N$ puntos:\n",
    "\n",
    "(i) Encuentra un polinomio $\\ell_1(x)$ sencillo, tal que $\\ell_1(x)$ sea igual a $0$ para $x=x_2$, $x=x_3$, ..., y para $x=x_N$. Ahora normalízalo para que $\\ell_1(x_1) = 1$. ¿De qué orden es el polinomio $\\ell_1$?\n",
    "\n",
    "(ii) De manera similar, encuentra $\\ell_i(x)$ que sea igual a $1$ en $x_i$, y que se anule en $x_j$ para $j \\neq i$.\n",
    "\n",
    "(iii) Dibuja algunas $\\ell_i$ para $N$ chiquitas. ¡Asegúrate de que sí se comporten correctamente!\n",
    "\n",
    "(iv) Utiliza las $\\ell_i$ para interpolar los datos $(x_i, y_i)_{i=1}^N$ con un polinomio $p$. ¿De qué orden es el polinomio resultante? Nota que $p$ es *único* en el conjunto de polinomios con grado $\\le$ el grado de $p$."
   ]
  },
  {
   "cell_type": "markdown",
   "metadata": {},
   "source": [
    "**[3]** (i) Escribe una función `interpolar` que acepta un vector de $N$ pares $(x_i, y_i)$, y regresa una función que las interpole. [Pista: Puedes ¡definir una función adentro de la función `interpolar`!, y luego ¡regresar esta función de la función `interpolar`!]\n",
    "\n",
    "(ii) Toma funciones polinomiales $f$ de orden $n$ con distintos valores de $n$, y genera $n+1$ datos al muestrear la función en puntos $x_i$ espaciados de forma uniforme. [Es decir, calcula los pares $(x_i, f(x_i))$.] Dibuja la función original y la función interpolada.\n",
    "\n",
    "(iii) Ahora toma funciones que *no sean* polinomiales, y haz lo mismo. ¿Qué observas?"
   ]
  },
  {
   "cell_type": "markdown",
   "metadata": {},
   "source": [
    "**[4]** Considera la función de Runga, $f(x) = \\frac{1}{1+25x^2}$, en la región $x \\in [-1, 1]$. Interpólala con tu función `interpolar` para distintos números $N$ de puntos. ¿Qué observas? Utiliza `@manipulate`. "
   ]
  },
  {
   "cell_type": "markdown",
   "metadata": {},
   "source": [
    "Le que observaste en [4] se llama el **fenómeno de Runge**. Esto demuestra que en general *es una muy mala idea* el utilizar puntos espaciados de forma igual para interpolar. \n",
    "\n",
    "Sin embargo, resulta que el problema no es la interpolación en sí, sino la elección de puntos donde interpolar."
   ]
  },
  {
   "cell_type": "markdown",
   "metadata": {},
   "source": [
    "## Interpolación en puntos espaciados no-uniformemente"
   ]
  },
  {
   "cell_type": "markdown",
   "metadata": {},
   "source": [
    "Resulta que la solución es tomar puntos en el intervalo $[-1,1]$, espaciados tales que se amontonen cerca de los puntos extremos del intervalo. [La razón por esto se puede entender con la teoría de potenciales (\"potential theory\"); ver e.g. Trefethen, *Approximation Theory and Approximation Practice*.] \n",
    "\n",
    "Lo más común es utilizar los **puntos de Chebyshev** con parámetro $n$, definidos como \n",
    "\n",
    "$$x_j := \\cos \\left( \\frac{j \\pi}{n} \\right) \\quad \\text{con } 0 \\le j \\le n.$$"
   ]
  },
  {
   "cell_type": "markdown",
   "metadata": {},
   "source": [
    "**[5]** (i) Escribe una función que calcula los puntos de Chebyshev para un valor de $n$ dado.\n",
    "\n",
    "(ii) Escribe una función que interpola una función dada en los puntos de Chebyshev. Grafica los resultados.\n",
    "\n",
    "(iii) Interpola la función de Runge en los puntos de Chebyshev para distintos valores de $n$. ¿Qué observas?"
   ]
  },
  {
   "cell_type": "markdown",
   "metadata": {},
   "source": [
    "**[6]** (i) Dada una función $f$ , calcula numéricamente el error al utilizar la interpolación de Chebyshev $p_n$ con respecto a la función original $f$, dado por la norma\n",
    "\n",
    "$$\\|f - p\\|_{\\infty} := \\sup_x |f(x) - p(x)|,$$\n",
    "\n",
    "para distintos números de puntos de Chebyshev.\n",
    "\n",
    "Conforme se aumenta el número de puntos, ¿cómo es la convergencia a $0$ del error?  \n",
    "\n",
    "(ii) Resulta que la tasa de convergencia depende de qué tan suave es la función.\n",
    "Por ejemplo, inténtalo con la función `abs` y con la función `floor`."
   ]
  },
  {
   "cell_type": "markdown",
   "metadata": {},
   "source": [
    "## Interpolación baricéntrica "
   ]
  },
  {
   "cell_type": "markdown",
   "metadata": {},
   "source": [
    "La técnica de interpolación que hemos demostrado hasta ahora no es práctica. Una versión práctica se llama la **interpolación baricéntrica**, que consiste en una manera de reescribir las cosas para que sea más eficiente. El desarrollo se puede encontrar [en este artículo](https://people.maths.ox.ac.uk/trefethen/barycentric.pdf), escrito por [Nick Trefethen](https://people.maths.ox.ac.uk/trefethen), uno de los analistas numéricos más influyentes del mundo. El artículo es muy accesible."
   ]
  },
  {
   "cell_type": "markdown",
   "metadata": {},
   "source": [
    "**[7]** Lee las secciones 3 y 4 del artículo para entender la derivación de las siguientes fórmulas.\n",
    "También lee la introducción para entender el panorama histórico."
   ]
  },
  {
   "cell_type": "markdown",
   "metadata": {},
   "source": [
    "Dados puntos $x_i$, y valores $f_i := f(x_i)$, se llega a la siguiente fórmula bonita para evaluar el polonimio interpolador $p$ en el punto $x$:"
   ]
  },
  {
   "cell_type": "markdown",
   "metadata": {},
   "source": [
    "$$p(x) = \\frac{ \\sum_{j=0}^n \\frac{w_j}{x - x_j} f_j } \n",
    "{\\sum_{j=0}^n\\frac{w_j}{x - x_j}}.$$\n",
    "\n",
    "Aquí, los $w_j$ son pesos dados por\n",
    "$$w_j = \\frac{1}{\\prod_{k\\neq j} (x_j - x_k)}.$$\n",
    "\n",
    "Para los puntos de Chebyshev definidos arriba, se puede mostrar que\n",
    "$$w_j = (-1)^j \\delta_j,$$\n",
    "con $$\\delta_j = \\begin{cases} \\textstyle \\frac{1}{2}, \\quad \\text{si } j=0 \\text{ o } j=n;\\\\\n",
    "                                1, \\quad \\text{si no}\n",
    "                 \\end{cases}.\n",
    "                 $$"
   ]
  },
  {
   "cell_type": "markdown",
   "metadata": {},
   "source": [
    "**[8]** (i) Implementa la interpolación baricéntrica en los puntos de Chebyshev, usando la fórmula explícita para las $w_j$. Verifica que funcione. Intenta hacer que sea lo más eficiente posible; es decir, no recalcules de nuevo algo que ya calculaste.\n",
    "\n",
    "(ii) Compara la velocidad con la implementación anterior."
   ]
  },
  {
   "cell_type": "markdown",
   "metadata": {},
   "source": [
    "## Tema de actualidad"
   ]
  },
  {
   "cell_type": "markdown",
   "metadata": {},
   "source": [
    "Lo que hemos logrado es el aproximar una función continua $f$ por un conjunto discreto de sus valores $f(x_i)$ en la **malla** (posiblemente no-uniforme) $(x_i)_{i=1}^N$. Ahora podríamos manipular la función ¡al manipular sólo estos valores discretos!\n",
    "\n",
    "Resulta que es más útil **cambiar de base** en el espacio de polinomios, y utilizar los **polinomios de Chebyshev**. \n",
    "\n",
    "La idea es escribir el polinomio interpolante como una suma de polinomios de Chebyshev y examinar los coeficientes de estos polinomios, que tienen propiedades muy útiles. El campo se llama aproximación de Chebyshev, y es un tema sumamente importante hoy día. Hay una implementación en Julia en el paquete https://github.com/JuliaApproximation/ApproxFun.jl, pero el hacer una parte ¡podría hacer un buen proyecto final!"
   ]
  }
 ],
 "metadata": {
  "kernelspec": {
   "display_name": "Julia 0.6.0",
   "language": "julia",
   "name": "julia-0.6"
  },
  "language_info": {
   "file_extension": ".jl",
   "mimetype": "application/julia",
   "name": "julia",
   "version": "0.6.0"
  }
 },
 "nbformat": 4,
 "nbformat_minor": 2
}
